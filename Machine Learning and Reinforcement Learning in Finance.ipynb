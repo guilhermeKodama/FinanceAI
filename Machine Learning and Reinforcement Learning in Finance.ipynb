{
 "cells": [
  {
   "cell_type": "markdown",
   "metadata": {},
   "source": [
    "# Machine Learning and Reinforcement Learning in Finance"
   ]
  },
  {
   "cell_type": "markdown",
   "metadata": {},
   "source": [
    "**Main references**\n",
    "* C.Bishop, \"Pattern Recognition and Machine Learning\" (2006)\n",
    "* K.P Murphy, \"Machine Learning: A Probabilistic Perspective\" (2012)\n",
    "* I. Goodfellow, Y.Bengio, and A. Courville, \"Deep Learning\" (2006)\n",
    "* A. Geron, \"Hands-On Machine Learning with Scikit-Learn and Tensorflow\" (2017)\n",
    "\n",
    "**Additional references**\n",
    "* S.Marsland, \"Machine Learning: An Algorithmic Perspective\" (2009)\n",
    "* N.Gershenfeld, \"The Nature of Mathematical Modeling\" (1999)\n",
    "* D.Barber, \"Bayesian Reasoning and Machine Learning\" (2012)"
   ]
  },
  {
   "cell_type": "code",
   "execution_count": null,
   "metadata": {},
   "outputs": [],
   "source": []
  },
  {
   "cell_type": "code",
   "execution_count": null,
   "metadata": {},
   "outputs": [],
   "source": []
  },
  {
   "cell_type": "code",
   "execution_count": null,
   "metadata": {},
   "outputs": [],
   "source": []
  }
 ],
 "metadata": {
  "kernelspec": {
   "display_name": "Python 3",
   "language": "python",
   "name": "python3"
  },
  "language_info": {
   "codemirror_mode": {
    "name": "ipython",
    "version": 3
   },
   "file_extension": ".py",
   "mimetype": "text/x-python",
   "name": "python",
   "nbconvert_exporter": "python",
   "pygments_lexer": "ipython3",
   "version": "3.7.1"
  }
 },
 "nbformat": 4,
 "nbformat_minor": 2
}
